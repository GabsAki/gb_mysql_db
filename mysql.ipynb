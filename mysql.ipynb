{
 "cells": [
  {
   "cell_type": "markdown",
   "metadata": {},
   "source": [
    "# Create connection"
   ]
  },
  {
   "cell_type": "code",
   "execution_count": 1,
   "metadata": {},
   "outputs": [],
   "source": [
    "import mysql.connector"
   ]
  },
  {
   "cell_type": "code",
   "execution_count": 2,
   "metadata": {},
   "outputs": [],
   "source": [
    "conn = mysql.connector.connect(\n",
    "    host=\"localhost\",\n",
    "    user=\"root\",\n",
    "    password=\"1234\",\n",
    ")\n",
    "cursor = conn.cursor()"
   ]
  },
  {
   "cell_type": "markdown",
   "metadata": {},
   "source": [
    "# Create schema"
   ]
  },
  {
   "cell_type": "code",
   "execution_count": 3,
   "metadata": {},
   "outputs": [],
   "source": [
    "create_schema_query = \"CREATE DATABASE IF NOT EXISTS GBC_Superstore;\"\n",
    "cursor.execute(create_schema_query)\n",
    "conn.commit()"
   ]
  },
  {
   "cell_type": "code",
   "execution_count": 4,
   "metadata": {},
   "outputs": [],
   "source": [
    "# Create connection with schema specified\n",
    "conn = mysql.connector.connect(\n",
    "    host=\"localhost\",\n",
    "    user=\"root\",\n",
    "    password=\"1234\",\n",
    "    database=\"GBC_Superstore\"\n",
    ")\n",
    "cursor = conn.cursor()"
   ]
  },
  {
   "cell_type": "markdown",
   "metadata": {},
   "source": [
    "# Create customers table"
   ]
  },
  {
   "cell_type": "code",
   "execution_count": 5,
   "metadata": {},
   "outputs": [],
   "source": [
    "create_customers_table_query = \"\"\"\n",
    "CREATE TABLE IF NOT EXISTS customers (\n",
    "    customer_id VARCHAR(255) PRIMARY KEY,\n",
    "    customer_name VARCHAR(255),\n",
    "    segment VARCHAR(255)\n",
    ")\n",
    "\"\"\"\n",
    "cursor.execute(create_customers_table_query)\n",
    "conn.commit()"
   ]
  },
  {
   "cell_type": "markdown",
   "metadata": {},
   "source": [
    "# regions table"
   ]
  },
  {
   "cell_type": "code",
   "execution_count": 6,
   "metadata": {},
   "outputs": [],
   "source": [
    "create_regions_table_query = \"\"\"\n",
    "CREATE TABLE IF NOT EXISTS regions (\n",
    "    region_id INT AUTO_INCREMENT PRIMARY KEY,\n",
    "    region VARCHAR(255),\n",
    "    regional_manager VARCHAR(255)\n",
    ")\n",
    "\"\"\"\n",
    "cursor.execute(create_regions_table_query)\n",
    "conn.commit()"
   ]
  },
  {
   "cell_type": "markdown",
   "metadata": {},
   "source": [
    "# orders table"
   ]
  },
  {
   "cell_type": "code",
   "execution_count": 7,
   "metadata": {},
   "outputs": [],
   "source": [
    "create_orders_table_query = \"\"\"\n",
    "CREATE TABLE IF NOT EXISTS orders (\n",
    "    order_id VARCHAR(255) PRIMARY KEY,\n",
    "    order_date DATE,\n",
    "    ship_date DATE,\n",
    "    ship_mode VARCHAR(255),\n",
    "    customer_id VARCHAR(255),\n",
    "    city VARCHAR(255),\n",
    "    state VARCHAR(255),\n",
    "    postal_code FLOAT,\n",
    "    region_id INT,\n",
    "    returned VARCHAR(3),\n",
    "    FOREIGN KEY (customer_id) REFERENCES customers(customer_id),\n",
    "    FOREIGN KEY (region_id) REFERENCES regions(region_id)\n",
    ")\n",
    "\"\"\"\n",
    "cursor.execute(create_orders_table_query)\n",
    "conn.commit()"
   ]
  },
  {
   "cell_type": "markdown",
   "metadata": {},
   "source": [
    "# products table"
   ]
  },
  {
   "cell_type": "code",
   "execution_count": 8,
   "metadata": {},
   "outputs": [],
   "source": [
    "create_products_table_query = \"\"\"\n",
    "CREATE TABLE products (\n",
    "  product_id VARCHAR(255) PRIMARY KEY,\n",
    "  category VARCHAR(255),\n",
    "  sub_category VARCHAR(255),\n",
    "  product_name VARCHAR(255)\n",
    ");\n",
    "\"\"\"\n",
    "cursor.execute(create_products_table_query)\n",
    "conn.commit()"
   ]
  },
  {
   "cell_type": "markdown",
   "metadata": {},
   "source": [
    "# orders_products tabel"
   ]
  },
  {
   "cell_type": "code",
   "execution_count": 9,
   "metadata": {},
   "outputs": [],
   "source": [
    "create_orders_products_table_query = \"\"\"\n",
    "CREATE TABLE IF NOT EXISTS orders_products (\n",
    "    order_id VARCHAR(255),\n",
    "    product_id VARCHAR(255),\n",
    "    sales FLOAT,\n",
    "    quantity INT,\n",
    "    discount FLOAT,\n",
    "    profit FLOAT,\n",
    "    FOREIGN KEY (order_id) REFERENCES orders(order_id),\n",
    "    FOREIGN KEY (product_id) REFERENCES products(product_id)\n",
    ");\n",
    "\"\"\"\n",
    "cursor.execute(create_orders_products_table_query)\n",
    "conn.commit()\n"
   ]
  },
  {
   "cell_type": "code",
   "execution_count": null,
   "metadata": {},
   "outputs": [],
   "source": []
  }
 ],
 "metadata": {
  "kernelspec": {
   "display_name": "venv",
   "language": "python",
   "name": "python3"
  },
  "language_info": {
   "codemirror_mode": {
    "name": "ipython",
    "version": 3
   },
   "file_extension": ".py",
   "mimetype": "text/x-python",
   "name": "python",
   "nbconvert_exporter": "python",
   "pygments_lexer": "ipython3",
   "version": "3.10.4"
  }
 },
 "nbformat": 4,
 "nbformat_minor": 2
}
